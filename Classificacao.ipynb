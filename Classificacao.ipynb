{
  "nbformat": 4,
  "nbformat_minor": 0,
  "metadata": {
    "colab": {
      "name": "Classificacao.ipynb",
      "provenance": [],
      "toc_visible": true,
      "authorship_tag": "ABX9TyP4h5TGMTWtvD1trX2STgi8",
      "include_colab_link": true
    },
    "kernelspec": {
      "name": "python3",
      "display_name": "Python 3"
    }
  },
  "cells": [
    {
      "cell_type": "markdown",
      "metadata": {
        "id": "view-in-github",
        "colab_type": "text"
      },
      "source": [
        "<a href=\"https://colab.research.google.com/github/KIQVinicius/Modelo-de-classificacao/blob/main/Classificacao.ipynb\" target=\"_parent\"><img src=\"https://colab.research.google.com/assets/colab-badge.svg\" alt=\"Open In Colab\"/></a>"
      ]
    },
    {
      "cell_type": "code",
      "metadata": {
        "id": "Yfr9rp23gTjv"
      },
      "source": [
        "import pandas as pd\r\n",
        "import numpy as np"
      ],
      "execution_count": 6,
      "outputs": []
    },
    {
      "cell_type": "markdown",
      "metadata": {
        "id": "rDhWGc1HpU_-"
      },
      "source": [
        "## Exemplo"
      ]
    },
    {
      "cell_type": "code",
      "metadata": {
        "id": "C70CiLxPkL9h"
      },
      "source": [
        "# [é gordinho?, tem perninha curta?, faz auau?]\r\n",
        "porco1 = [1, 1, 0]\r\n",
        "porco2 = [1, 1, 0]\r\n",
        "porco3 = [1, 1, 0]\r\n",
        "cachorro4 = [1, 1, 1]\r\n",
        "cachorro5 = [0, 1, 1]\r\n",
        "cachorro6 = [0, 1, 1]"
      ],
      "execution_count": 7,
      "outputs": []
    },
    {
      "cell_type": "code",
      "metadata": {
        "id": "R_yz9vcVki2R"
      },
      "source": [
        "dados = [porco1, porco2, porco3, cachorro4, cachorro5, cachorro6]"
      ],
      "execution_count": 8,
      "outputs": []
    },
    {
      "cell_type": "code",
      "metadata": {
        "id": "g-cymL9tkkUm"
      },
      "source": [
        "#1 = porco\r\n",
        "#-1 = cachorro\r\n",
        "marcacoes = [1, 1, 1, -1, -1, -1]"
      ],
      "execution_count": 9,
      "outputs": []
    },
    {
      "cell_type": "code",
      "metadata": {
        "id": "jxZigxkQkmXy"
      },
      "source": [
        "from sklearn.naive_bayes import MultinomialNB"
      ],
      "execution_count": 10,
      "outputs": []
    },
    {
      "cell_type": "code",
      "metadata": {
        "colab": {
          "base_uri": "https://localhost:8080/"
        },
        "id": "u-zLPNtcknmj",
        "outputId": "8b339d0e-e743-4b5d-f21a-7bf1d31dab89"
      },
      "source": [
        "modelo = MultinomialNB()\r\n",
        "modelo.fit(dados, marcacoes)"
      ],
      "execution_count": 11,
      "outputs": [
        {
          "output_type": "execute_result",
          "data": {
            "text/plain": [
              "MultinomialNB(alpha=1.0, class_prior=None, fit_prior=True)"
            ]
          },
          "metadata": {
            "tags": []
          },
          "execution_count": 11
        }
      ]
    },
    {
      "cell_type": "code",
      "metadata": {
        "id": "6HCu8_KBko4d"
      },
      "source": [
        "teste1 = [1,1,1]\r\n",
        "teste2 = [0,1,1]\r\n",
        "teste3 = [1,1,0]"
      ],
      "execution_count": 12,
      "outputs": []
    },
    {
      "cell_type": "code",
      "metadata": {
        "id": "PdAdZdBEk0SC"
      },
      "source": [
        "testes = [teste1, teste2, teste3]\r\n",
        "marcacoes_teste = [-1,-1,-1]"
      ],
      "execution_count": 13,
      "outputs": []
    },
    {
      "cell_type": "code",
      "metadata": {
        "id": "nBlTnpJIk3Xr"
      },
      "source": [
        "resultado = modelo.predict(testes)"
      ],
      "execution_count": 14,
      "outputs": []
    },
    {
      "cell_type": "code",
      "metadata": {
        "colab": {
          "base_uri": "https://localhost:8080/"
        },
        "id": "hZF7mY03k5W8",
        "outputId": "bfdb2aaf-75e3-4cbb-b375-d5229784659c"
      },
      "source": [
        "print(resultado == marcacoes_teste)"
      ],
      "execution_count": 15,
      "outputs": [
        {
          "output_type": "stream",
          "text": [
            "[ True  True False]\n"
          ],
          "name": "stdout"
        }
      ]
    },
    {
      "cell_type": "code",
      "metadata": {
        "colab": {
          "base_uri": "https://localhost:8080/"
        },
        "id": "uCgfSWknmaxN",
        "outputId": "46b7e920-bc90-4e62-b9bd-f72dc59ee2f1"
      },
      "source": [
        "modelo.score(testes, marcacoes_teste)"
      ],
      "execution_count": 16,
      "outputs": [
        {
          "output_type": "execute_result",
          "data": {
            "text/plain": [
              "0.6666666666666666"
            ]
          },
          "metadata": {
            "tags": []
          },
          "execution_count": 16
        }
      ]
    },
    {
      "cell_type": "code",
      "metadata": {
        "id": "KtkkfQkMnKPg"
      },
      "source": [
        ""
      ],
      "execution_count": 16,
      "outputs": []
    },
    {
      "cell_type": "markdown",
      "metadata": {
        "id": "Sj4E2YtCpcJt"
      },
      "source": [
        "# Caso real"
      ]
    },
    {
      "cell_type": "code",
      "metadata": {
        "id": "5T8wnwLbpauH"
      },
      "source": [
        "dados = pd.read_csv(\"acesso.csv\")"
      ],
      "execution_count": 17,
      "outputs": []
    },
    {
      "cell_type": "code",
      "metadata": {
        "colab": {
          "base_uri": "https://localhost:8080/"
        },
        "id": "sbrB-GfjpkNN",
        "outputId": "85a445e0-23c4-49cd-bdea-142ca99b4dff"
      },
      "source": [
        "print(dados.head())"
      ],
      "execution_count": 18,
      "outputs": [
        {
          "output_type": "stream",
          "text": [
            "   acessou_home  acessou_como_funciona  acessou_contato  comprou\n",
            "0             1                      1                0        0\n",
            "1             1                      1                0        0\n",
            "2             1                      1                0        0\n",
            "3             1                      1                0        0\n",
            "4             1                      1                0        0\n"
          ],
          "name": "stdout"
        }
      ]
    },
    {
      "cell_type": "code",
      "metadata": {
        "id": "cfB_a0LZptoh"
      },
      "source": [
        "y = dados['comprou']"
      ],
      "execution_count": 19,
      "outputs": []
    },
    {
      "cell_type": "code",
      "metadata": {
        "id": "D8N0A0DmqbCf"
      },
      "source": [
        "x = dados[['acessou_home', 'acessou_como_funciona', 'acessou_contato']]"
      ],
      "execution_count": 20,
      "outputs": []
    },
    {
      "cell_type": "code",
      "metadata": {
        "colab": {
          "base_uri": "https://localhost:8080/",
          "height": 419
        },
        "id": "-UHzY6V2qeV6",
        "outputId": "2962283c-82e1-4cd4-a81d-429062e02179"
      },
      "source": [
        "x"
      ],
      "execution_count": 21,
      "outputs": [
        {
          "output_type": "execute_result",
          "data": {
            "text/html": [
              "<div>\n",
              "<style scoped>\n",
              "    .dataframe tbody tr th:only-of-type {\n",
              "        vertical-align: middle;\n",
              "    }\n",
              "\n",
              "    .dataframe tbody tr th {\n",
              "        vertical-align: top;\n",
              "    }\n",
              "\n",
              "    .dataframe thead th {\n",
              "        text-align: right;\n",
              "    }\n",
              "</style>\n",
              "<table border=\"1\" class=\"dataframe\">\n",
              "  <thead>\n",
              "    <tr style=\"text-align: right;\">\n",
              "      <th></th>\n",
              "      <th>acessou_home</th>\n",
              "      <th>acessou_como_funciona</th>\n",
              "      <th>acessou_contato</th>\n",
              "    </tr>\n",
              "  </thead>\n",
              "  <tbody>\n",
              "    <tr>\n",
              "      <th>0</th>\n",
              "      <td>1</td>\n",
              "      <td>1</td>\n",
              "      <td>0</td>\n",
              "    </tr>\n",
              "    <tr>\n",
              "      <th>1</th>\n",
              "      <td>1</td>\n",
              "      <td>1</td>\n",
              "      <td>0</td>\n",
              "    </tr>\n",
              "    <tr>\n",
              "      <th>2</th>\n",
              "      <td>1</td>\n",
              "      <td>1</td>\n",
              "      <td>0</td>\n",
              "    </tr>\n",
              "    <tr>\n",
              "      <th>3</th>\n",
              "      <td>1</td>\n",
              "      <td>1</td>\n",
              "      <td>0</td>\n",
              "    </tr>\n",
              "    <tr>\n",
              "      <th>4</th>\n",
              "      <td>1</td>\n",
              "      <td>1</td>\n",
              "      <td>0</td>\n",
              "    </tr>\n",
              "    <tr>\n",
              "      <th>...</th>\n",
              "      <td>...</td>\n",
              "      <td>...</td>\n",
              "      <td>...</td>\n",
              "    </tr>\n",
              "    <tr>\n",
              "      <th>94</th>\n",
              "      <td>0</td>\n",
              "      <td>0</td>\n",
              "      <td>1</td>\n",
              "    </tr>\n",
              "    <tr>\n",
              "      <th>95</th>\n",
              "      <td>1</td>\n",
              "      <td>1</td>\n",
              "      <td>1</td>\n",
              "    </tr>\n",
              "    <tr>\n",
              "      <th>96</th>\n",
              "      <td>0</td>\n",
              "      <td>0</td>\n",
              "      <td>1</td>\n",
              "    </tr>\n",
              "    <tr>\n",
              "      <th>97</th>\n",
              "      <td>0</td>\n",
              "      <td>1</td>\n",
              "      <td>0</td>\n",
              "    </tr>\n",
              "    <tr>\n",
              "      <th>98</th>\n",
              "      <td>0</td>\n",
              "      <td>0</td>\n",
              "      <td>0</td>\n",
              "    </tr>\n",
              "  </tbody>\n",
              "</table>\n",
              "<p>99 rows × 3 columns</p>\n",
              "</div>"
            ],
            "text/plain": [
              "    acessou_home  acessou_como_funciona  acessou_contato\n",
              "0              1                      1                0\n",
              "1              1                      1                0\n",
              "2              1                      1                0\n",
              "3              1                      1                0\n",
              "4              1                      1                0\n",
              "..           ...                    ...              ...\n",
              "94             0                      0                1\n",
              "95             1                      1                1\n",
              "96             0                      0                1\n",
              "97             0                      1                0\n",
              "98             0                      0                0\n",
              "\n",
              "[99 rows x 3 columns]"
            ]
          },
          "metadata": {
            "tags": []
          },
          "execution_count": 21
        }
      ]
    },
    {
      "cell_type": "code",
      "metadata": {
        "id": "JeYcesHnqe6q"
      },
      "source": [
        "from sklearn.model_selection import train_test_split"
      ],
      "execution_count": 22,
      "outputs": []
    },
    {
      "cell_type": "code",
      "metadata": {
        "id": "vPNwNBylqzpS"
      },
      "source": [
        "x_treino, x_teste, y_treino, y_teste = train_test_split(x,y,test_size=0.33)"
      ],
      "execution_count": 23,
      "outputs": []
    },
    {
      "cell_type": "code",
      "metadata": {
        "colab": {
          "base_uri": "https://localhost:8080/"
        },
        "id": "PBi2vovgrlbJ",
        "outputId": "ede1f788-283f-456e-84f7-b676b491ed3e"
      },
      "source": [
        "modelo.fit(x_treino, y_treino)"
      ],
      "execution_count": 24,
      "outputs": [
        {
          "output_type": "execute_result",
          "data": {
            "text/plain": [
              "MultinomialNB(alpha=1.0, class_prior=None, fit_prior=True)"
            ]
          },
          "metadata": {
            "tags": []
          },
          "execution_count": 24
        }
      ]
    },
    {
      "cell_type": "code",
      "metadata": {
        "colab": {
          "base_uri": "https://localhost:8080/"
        },
        "id": "_MiCQ_Jdrvcy",
        "outputId": "c36d6834-8eb0-446f-af52-c0534644adef"
      },
      "source": [
        "modelo.score(x_teste, y_teste)"
      ],
      "execution_count": 25,
      "outputs": [
        {
          "output_type": "execute_result",
          "data": {
            "text/plain": [
              "0.8787878787878788"
            ]
          },
          "metadata": {
            "tags": []
          },
          "execution_count": 25
        }
      ]
    },
    {
      "cell_type": "code",
      "metadata": {
        "id": "S56lW_nUujoY"
      },
      "source": [
        "from sklearn.ensemble import AdaBoostClassifier"
      ],
      "execution_count": 29,
      "outputs": []
    },
    {
      "cell_type": "code",
      "metadata": {
        "id": "Ou7WyGdmPWVr"
      },
      "source": [
        "modelo = AdaBoostClassifier()"
      ],
      "execution_count": 30,
      "outputs": []
    },
    {
      "cell_type": "code",
      "metadata": {
        "colab": {
          "base_uri": "https://localhost:8080/"
        },
        "id": "WlQA7FT6Psq_",
        "outputId": "99109282-6dda-4576-ed5f-6523d8afecc4"
      },
      "source": [
        "modelo.fit(x_treino, y_treino)"
      ],
      "execution_count": 33,
      "outputs": [
        {
          "output_type": "execute_result",
          "data": {
            "text/plain": [
              "AdaBoostClassifier(algorithm='SAMME.R', base_estimator=None, learning_rate=1.0,\n",
              "                   n_estimators=50, random_state=None)"
            ]
          },
          "metadata": {
            "tags": []
          },
          "execution_count": 33
        }
      ]
    },
    {
      "cell_type": "code",
      "metadata": {
        "colab": {
          "base_uri": "https://localhost:8080/"
        },
        "id": "RCAwreMbPxas",
        "outputId": "74814f04-ffef-40ec-fcce-783e303dd0e3"
      },
      "source": [
        "modelo.score(x_teste, y_teste)"
      ],
      "execution_count": 34,
      "outputs": [
        {
          "output_type": "execute_result",
          "data": {
            "text/plain": [
              "0.9090909090909091"
            ]
          },
          "metadata": {
            "tags": []
          },
          "execution_count": 34
        }
      ]
    },
    {
      "cell_type": "code",
      "metadata": {
        "id": "XC6ZMCC3Pz_6"
      },
      "source": [
        ""
      ],
      "execution_count": null,
      "outputs": []
    }
  ]
}